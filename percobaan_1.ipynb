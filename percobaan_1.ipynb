{
 "cells": [
  {
   "cell_type": "code",
   "execution_count": 4,
   "metadata": {},
   "outputs": [
    {
     "name": "stdout",
     "output_type": "stream",
     "text": [
      "Requirement already satisfied: tqdm in c:\\users\\fries\\appdata\\local\\programs\\python\\python312\\lib\\site-packages (4.66.4)\n",
      "Requirement already satisfied: colorama in c:\\users\\fries\\appdata\\roaming\\python\\python312\\site-packages (from tqdm) (0.4.6)\n",
      "Note: you may need to restart the kernel to use updated packages.\n"
     ]
    }
   ],
   "source": [
    "pip install tqdm"
   ]
  },
  {
   "cell_type": "code",
   "execution_count": 5,
   "metadata": {},
   "outputs": [
    {
     "name": "stdout",
     "output_type": "stream",
     "text": [
      "Requirement already satisfied: scikit-learn in c:\\users\\fries\\appdata\\local\\programs\\python\\python312\\lib\\site-packages (1.5.0)\n",
      "Requirement already satisfied: numpy>=1.19.5 in c:\\users\\fries\\appdata\\local\\programs\\python\\python312\\lib\\site-packages (from scikit-learn) (1.26.4)\n",
      "Requirement already satisfied: scipy>=1.6.0 in c:\\users\\fries\\appdata\\local\\programs\\python\\python312\\lib\\site-packages (from scikit-learn) (1.13.1)\n",
      "Requirement already satisfied: joblib>=1.2.0 in c:\\users\\fries\\appdata\\local\\programs\\python\\python312\\lib\\site-packages (from scikit-learn) (1.4.2)\n",
      "Requirement already satisfied: threadpoolctl>=3.1.0 in c:\\users\\fries\\appdata\\local\\programs\\python\\python312\\lib\\site-packages (from scikit-learn) (3.5.0)\n",
      "Note: you may need to restart the kernel to use updated packages.\n"
     ]
    }
   ],
   "source": [
    "pip install scikit-learn"
   ]
  },
  {
   "cell_type": "code",
   "execution_count": 6,
   "metadata": {},
   "outputs": [],
   "source": [
    "import matplotlib.pyplot as plt\n",
    "import numpy as np\n",
    "import cv2 as cv\n",
    "import os\n",
    "import math\n",
    "import pandas as pd\n",
    "import random\n",
    "from tqdm import tqdm\n",
    "from sklearn.model_selection import train_test_split\n",
    "from sklearn.ensemble import RandomForestClassifier\n",
    "from sklearn.metrics import confusion_matrix, accuracy_score, precision_score, recall_score, f1_score\n",
    "from sklearn.exceptions import UndefinedMetricWarning\n",
    "import warnings"
   ]
  },
  {
   "cell_type": "markdown",
   "metadata": {},
   "source": [
    "## Data Loading"
   ]
  },
  {
   "cell_type": "code",
   "execution_count": 7,
   "metadata": {},
   "outputs": [],
   "source": [
    "def insertPic(folder, image_size=(150, 150), batch_size=100):\n",
    "    all_images = []\n",
    "    all_filenames = []\n",
    "    all_labels = []\n",
    "\n",
    "    label_dirs = [d for d in os.listdir(folder) if os.path.isdir(os.path.join(folder, d))]\n",
    "\n",
    "    for label in label_dirs:\n",
    "        label_path = os.path.join(folder, label)\n",
    "        filenames = os.listdir(label_path)\n",
    "        \n",
    "        for i in range(0, len(filenames), batch_size):\n",
    "            batch_filenames = filenames[i:i + batch_size]\n",
    "            images = []\n",
    "            labels = []\n",
    "            for filename in batch_filenames:\n",
    "                img_path = os.path.join(label_path, filename)\n",
    "                img = cv.imread(img_path, cv.IMREAD_COLOR)\n",
    "                \n",
    "                if img is not None:\n",
    "                    resized = cv.resize(img, image_size, interpolation=cv.INTER_AREA) \n",
    "                    images.append(resized)\n",
    "                    labels.append(label)\n",
    "\n",
    "            all_images.extend(images)\n",
    "            all_filenames.extend(batch_filenames)\n",
    "            all_labels.extend(labels)\n",
    "\n",
    "    return all_images, all_filenames, all_labels"
   ]
  },
  {
   "cell_type": "code",
   "execution_count": 8,
   "metadata": {},
   "outputs": [
    {
     "name": "stdout",
     "output_type": "stream",
     "text": [
      "Jumlah total gambar: 0\n",
      "Distribusi data per label:\n"
     ]
    },
    {
     "data": {
      "image/png": "[encoded data removed]",
      "text/plain": [
       "<Figure size 1000x600 with 1 Axes>"
      ]
     },
     "metadata": {},
     "output_type": "display_data"
    },
    {
     "ename": "ValueError",
     "evalue": "'a' cannot be empty unless no samples are taken",
     "output_type": "error",
     "traceback": [
      "\u001b[1;31m---------------------------------------------------------------------------\u001b[0m",
      "\u001b[1;31mValueError\u001b[0m                                Traceback (most recent call last)",
      "Cell \u001b[1;32mIn[8], line 33\u001b[0m\n\u001b[0;32m     30\u001b[0m     plt\u001b[38;5;241m.\u001b[39mshow()\n\u001b[0;32m     32\u001b[0m images, filenames, labels \u001b[38;5;241m=\u001b[39m insertPic(\u001b[38;5;124m'\u001b[39m\u001b[38;5;124mFingerSimulDataset\u001b[39m\u001b[38;5;124m'\u001b[39m, image_size\u001b[38;5;241m=\u001b[39m(\u001b[38;5;241m150\u001b[39m, \u001b[38;5;241m150\u001b[39m))\n\u001b[1;32m---> 33\u001b[0m \u001b[43meksploration\u001b[49m\u001b[43m(\u001b[49m\u001b[43mimages\u001b[49m\u001b[43m,\u001b[49m\u001b[43mlabels\u001b[49m\u001b[43m)\u001b[49m\n",
      "Cell \u001b[1;32mIn[8], line 23\u001b[0m, in \u001b[0;36meksploration\u001b[1;34m(images, labels)\u001b[0m\n\u001b[0;32m     20\u001b[0m plt\u001b[38;5;241m.\u001b[39mshow()\n\u001b[0;32m     22\u001b[0m num_samples \u001b[38;5;241m=\u001b[39m \u001b[38;5;241m7\u001b[39m\n\u001b[1;32m---> 23\u001b[0m sample_indices \u001b[38;5;241m=\u001b[39m \u001b[43mnp\u001b[49m\u001b[38;5;241;43m.\u001b[39;49m\u001b[43mrandom\u001b[49m\u001b[38;5;241;43m.\u001b[39;49m\u001b[43mchoice\u001b[49m\u001b[43m(\u001b[49m\u001b[38;5;28;43mrange\u001b[39;49m\u001b[43m(\u001b[49m\u001b[38;5;28;43mlen\u001b[39;49m\u001b[43m(\u001b[49m\u001b[43mimages\u001b[49m\u001b[43m)\u001b[49m\u001b[43m)\u001b[49m\u001b[43m,\u001b[49m\u001b[43m \u001b[49m\u001b[43mnum_samples\u001b[49m\u001b[43m,\u001b[49m\u001b[43m \u001b[49m\u001b[43mreplace\u001b[49m\u001b[38;5;241;43m=\u001b[39;49m\u001b[38;5;28;43;01mFalse\u001b[39;49;00m\u001b[43m)\u001b[49m\n\u001b[0;32m     24\u001b[0m plt\u001b[38;5;241m.\u001b[39mfigure(figsize\u001b[38;5;241m=\u001b[39m(\u001b[38;5;241m15\u001b[39m, \u001b[38;5;241m5\u001b[39m))\n\u001b[0;32m     25\u001b[0m \u001b[38;5;28;01mfor\u001b[39;00m i, idx \u001b[38;5;129;01min\u001b[39;00m \u001b[38;5;28menumerate\u001b[39m(sample_indices):\n",
      "File \u001b[1;32mnumpy\\\\random\\\\mtrand.pyx:951\u001b[0m, in \u001b[0;36mnumpy.random.mtrand.RandomState.choice\u001b[1;34m()\u001b[0m\n",
      "\u001b[1;31mValueError\u001b[0m: 'a' cannot be empty unless no samples are taken"
     ]
    }
   ],
   "source": [
    "def eksploration(images, labels):\n",
    "    print(f\"Jumlah total gambar: {len(images)}\")\n",
    "    \n",
    "    label_counts = {}\n",
    "    for label in labels:\n",
    "        if label in label_counts:\n",
    "            label_counts[label] += 1\n",
    "        else:\n",
    "            label_counts[label] = 1\n",
    "    print(\"Distribusi data per label:\")\n",
    "    for label, count in label_counts.items():\n",
    "        print(f\"{label}: {count}\")\n",
    "    \n",
    "    plt.figure(figsize=(10, 6))\n",
    "    plt.bar(label_counts.keys(), label_counts.values())\n",
    "    plt.xlabel('Label')\n",
    "    plt.ylabel('Jumlah Gambar')\n",
    "    plt.title('Distribusi Data per Label')\n",
    "    plt.xticks(rotation=45)\n",
    "    plt.show()\n",
    "    \n",
    "    num_samples = 7\n",
    "    sample_indices = np.random.choice(range(len(images)), num_samples, replace=False)\n",
    "    plt.figure(figsize=(15, 5))\n",
    "    for i, idx in enumerate(sample_indices):\n",
    "        plt.subplot(1, num_samples, i + 1)\n",
    "        plt.imshow(cv.cvtColor(images[idx], cv.COLOR_BGR2RGB))\n",
    "        plt.title(f\"Label: {labels[idx]}\")\n",
    "        plt.axis('off')\n",
    "    plt.show()\n",
    "    \n",
    "images, filenames, labels = insertPic('FingerSimulDataset', image_size=(150, 150))\n",
    "eksploration(images,labels)"
   ]
  },
  {
   "cell_type": "markdown",
   "metadata": {},
   "source": [
    "## Data Preparation"
   ]
  },
  {
   "cell_type": "markdown",
   "metadata": {},
   "source": [
    "### Data Augmentation"
   ]
  },
  {
   "cell_type": "code",
   "execution_count": 9,
   "metadata": {},
   "outputs": [],
   "source": [
    "def rotation (image, derajat):\n",
    "        rotated = image.copy()\n",
    "        sudut= np.deg2rad(derajat)\n",
    "        heighttengah = int((image.shape[1]-1)/2)\n",
    "        widthtengah = int((image.shape[0]-1)/2)\n",
    "        for i in range (rotated.shape[0]):\n",
    "            for j in range (rotated.shape[1]):\n",
    "                x=(i-heighttengah)*np.cos(sudut)+(j-widthtengah)*np.sin(sudut)\n",
    "                y=-(i-heighttengah)*np.sin(sudut)+(j-widthtengah)*np.cos(sudut)\n",
    "                x = int(x + heighttengah)\n",
    "                y = int(y + widthtengah)\n",
    "                if x>=0 and y>=0 and x<rotated.shape[0] and y<rotated.shape[1] :\n",
    "                    rotated[i][j]= image[x][y]\n",
    "        return rotated"
   ]
  },
  {
   "cell_type": "code",
   "execution_count": 10,
   "metadata": {},
   "outputs": [],
   "source": [
    "def mirroring(image, axis):\n",
    "        mirrored = image.copy()\n",
    "        if axis == 0:\n",
    "            for i in range (mirrored.shape[0]):\n",
    "                for j in range (mirrored.shape[1]):\n",
    "                    mirrored[i][j] = image[mirrored.shape[0]-1-i][j]\n",
    "        elif axis == 1:\n",
    "            for i in range (mirrored.shape[0]):\n",
    "                for j in range (mirrored.shape[1]):\n",
    "                    mirrored[i][j] = image[i][mirrored.shape[1]-1-j]\n",
    "        return mirrored"
   ]
  },
  {
   "cell_type": "code",
   "execution_count": 11,
   "metadata": {},
   "outputs": [],
   "source": [
    "def augmentasi(data, filenames, banyakData=4):\n",
    "    augmented_data = []\n",
    "    augmented_filenames = []\n",
    "    for i in tqdm(range(len(data))):\n",
    "        augmented_data.append(data[i])\n",
    "        augmented_filenames.append(filenames[i])\n",
    "        used_angles = set()\n",
    "        for j in range(banyakData):\n",
    "            image = data[i]\n",
    "            possible_angles = [angle for angle in range(5, 360, 5) if angle not in used_angles]\n",
    "            sudut = random.choice(possible_angles)\n",
    "            while sudut in used_angles:\n",
    "                sudut = random.randint(1, 360)\n",
    "            used_angles.add(sudut)\n",
    "            augment = random.randint(0, 1)\n",
    "            if augment == 0:\n",
    "                image = rotation(image, sudut)\n",
    "                image = mirroring(image, 0)\n",
    "            else:\n",
    "                image = rotation(image, sudut)\n",
    "                image = mirroring(image, 1)\n",
    "            augmented_data.append(image)\n",
    "            augmented_filenames.append(filenames[i])\n",
    "    return augmented_data, augmented_filenames"
   ]
  },
  {
   "cell_type": "code",
   "execution_count": 12,
   "metadata": {},
   "outputs": [
    {
     "name": "stderr",
     "output_type": "stream",
     "text": [
      "0it [00:00, ?it/s]\n"
     ]
    }
   ],
   "source": [
    "augmentasiData, augmentasiFilenames = augmentasi(images, filenames)"
   ]
  },
  {
   "cell_type": "code",
   "execution_count": 13,
   "metadata": {},
   "outputs": [],
   "source": [
    "def grayScaling(img):\n",
    "    gaussKernel = np.ones((3,3))/9\n",
    "    r = img[:,:,2]\n",
    "    g = img[:,:,1]\n",
    "    b = img[:,:,0]\n",
    "    filteredR = cv.filter2D(r,-1,gaussKernel)\n",
    "    filteredG = cv.filter2D(g,-1,gaussKernel)\n",
    "    filteredB = cv.filter2D(b,-1,gaussKernel)\n",
    "    return np.round(filteredR/3 + filteredG/3 + filteredB/3).astype(np.uint8)"
   ]
  },
  {
   "cell_type": "code",
   "execution_count": 14,
   "metadata": {},
   "outputs": [],
   "source": [
    "def grayScalingData(data):\n",
    "    gray_data = []\n",
    "    for i in tqdm(range(len(data))):\n",
    "        gray_data.append(grayScaling(data[i]))\n",
    "    return gray_data"
   ]
  },
  {
   "cell_type": "code",
   "execution_count": 15,
   "metadata": {},
   "outputs": [
    {
     "name": "stderr",
     "output_type": "stream",
     "text": [
      "0it [00:00, ?it/s]\n"
     ]
    }
   ],
   "source": [
    "grayAugmentedData = grayScalingData(augmentasiData)"
   ]
  },
  {
   "cell_type": "code",
   "execution_count": 16,
   "metadata": {},
   "outputs": [],
   "source": [
    "def findPixel(img,skala=256):\n",
    "    pixel = np.zeros(skala)\n",
    "    for i in range(img.shape[0]):\n",
    "        for j in range(img.shape[1]):\n",
    "            pixel[int(img[i,j])] =  pixel[int(img[i,j])] + 1\n",
    "    return pixel\n",
    "\n",
    "def findProbability(img, pixel,skala=256):\n",
    "    for i in range(skala):\n",
    "        pixel[i] = pixel [i] / (img.shape[0] * img.shape[1])\n",
    "    return pixel\n",
    "\n",
    "def findCumulative(arr,skala=256):\n",
    "    for i in range(skala):\n",
    "        if i != 0:\n",
    "            arr[i] = arr[i] + arr[i-1]\n",
    "    return arr\n",
    "\n",
    "def equalization(img):\n",
    "    pixel = findPixel(img)\n",
    "    pixel = findProbability(img,pixel)\n",
    "    pixel = findCumulative(pixel)\n",
    "    for i in range(img.shape[0]):\n",
    "        for j in range(img.shape[1]):\n",
    "            img[i,j] = pixel[int(img[i,j])] * 255\n",
    "    return img\n",
    "\n",
    "def equalizationData(data):\n",
    "    equalized_data = []\n",
    "    for i in tqdm(range(len(data))):\n",
    "        equalized_data.append(equalization(data[i]))\n",
    "    return equalized_data"
   ]
  },
  {
   "cell_type": "code",
   "execution_count": 17,
   "metadata": {},
   "outputs": [
    {
     "name": "stderr",
     "output_type": "stream",
     "text": [
      "0it [00:00, ?it/s]\n"
     ]
    }
   ],
   "source": [
    "equalData = equalizationData(grayAugmentedData)"
   ]
  },
  {
   "cell_type": "markdown",
   "metadata": {},
   "source": [
    "### Preprocessing"
   ]
  },
  {
   "cell_type": "markdown",
   "metadata": {},
   "source": [
    "#### Preprocessing 1"
   ]
  },
  {
   "cell_type": "code",
   "execution_count": 18,
   "metadata": {},
   "outputs": [],
   "source": [
    "def addPadd(image, kernel):\n",
    "    i = (kernel.shape[1]-1)//2\n",
    "    j = (kernel.shape[0]-1)//2\n",
    "    left = i\n",
    "    right = (kernel.shape[1]-1)-i\n",
    "    top = j\n",
    "    bottom = (kernel.shape[0]-1)-j\n",
    "    results = np.pad(image, ((top, bottom),(left, right)), mode='edge')\n",
    "    return results\n",
    "\n",
    "def sortArray(filter):\n",
    "    for i in range(len(filter)-1):\n",
    "        for j in range(i+1,len(filter)):\n",
    "            if filter[i] > filter[j]:\n",
    "                temp = filter[i]\n",
    "                filter[i] = filter[j]\n",
    "                filter[j] = temp\n",
    "    return filter\n",
    "\n",
    "def findMedian(filter):\n",
    "    sorted_array = sortArray(filter)\n",
    "    length = len(filter)\n",
    "    if length % 2 == 0:\n",
    "        x1 = (length // 2) - 1\n",
    "        x2 = x1 + 1\n",
    "        value = (sorted_array[x1] + sorted_array[x2]) // 2\n",
    "        return int(value)\n",
    "    else:\n",
    "        value = (length // 2)\n",
    "        return int(sorted_array[value])\n",
    "\n",
    "def medianFiltering(image, kernel):\n",
    "    result = np.zeros([image.shape[0], image.shape[1]], dtype=np.uint8)\n",
    "    paddingImage = addPadd(image, kernel)\n",
    "    for i in range(image.shape[0]):\n",
    "        for j in range(image.shape[1]):\n",
    "            temp = []\n",
    "            for k in range(kernel.shape[0]):\n",
    "                for l in range(kernel.shape[1]):\n",
    "                    temp.append(paddingImage[i+k, j+l])\n",
    "            value = findMedian(temp)\n",
    "            result[i][j] = value\n",
    "    return result\n",
    "\n",
    "def medianFilteringData(data):\n",
    "    kernel = np.ones((3,3))\n",
    "    median_filtered_data = []\n",
    "    for i in tqdm(range(len(data))):\n",
    "        median_filtered_data.append(medianFiltering(data[i], kernel))\n",
    "    return median_filtered_data"
   ]
  },
  {
   "cell_type": "code",
   "execution_count": null,
   "metadata": {},
   "outputs": [],
   "source": [
    "medianEqualData = medianFilteringData(equalData)"
   ]
  },
  {
   "cell_type": "code",
   "execution_count": null,
   "metadata": {},
   "outputs": [],
   "source": [
    "def normalisasi (image):\n",
    "    min_val = np.min(image)\n",
    "    max_val = np.max(image)\n",
    "    \n",
    "    normalisasi_img = (image-min_val)/(max_val-min_val)\n",
    "    uint8_img = (normalisasi_img * 255).astype(np.uint8)\n",
    "    \n",
    "    return uint8_img\n",
    "\n",
    "def normalisasiData(data):\n",
    "    normalized_data = []\n",
    "    for i in tqdm(range(len(data))):\n",
    "        normalized_data.append(normalisasi(data[i]))\n",
    "    return normalized_data"
   ]
  },
  {
   "cell_type": "code",
   "execution_count": null,
   "metadata": {},
   "outputs": [],
   "source": [
    "normalData = normalisasiData(medianEqualData)"
   ]
  },
  {
   "cell_type": "markdown",
   "metadata": {},
   "source": [
    "#### Preprocessing n"
   ]
  },
  {
   "cell_type": "code",
   "execution_count": null,
   "metadata": {},
   "outputs": [],
   "source": []
  },
  {
   "cell_type": "markdown",
   "metadata": {},
   "source": [
    "### Feature Extraction"
   ]
  },
  {
   "cell_type": "code",
   "execution_count": null,
   "metadata": {},
   "outputs": [],
   "source": [
    "def calculate_glcm(image, distances=[1], angles=[0, 45, 90, 135], levels=256):\n",
    "    glcm_matrices = []\n",
    "    max_val = np.max(image)\n",
    "    min_val = np.min(image)\n",
    "    image_normalized = ((image - min_val) / (max_val - min_val) * (levels - 1)).astype(np.uint8)\n",
    "    \n",
    "    for angle in angles:\n",
    "        glcm_matrix = np.zeros((levels, levels))\n",
    "        for distance in distances:\n",
    "            offset_x = int(round(distance * np.cos(np.radians(angle))))\n",
    "            offset_y = int(round(distance * np.sin(np.radians(angle))))\n",
    "            for i in range(image.shape[0]):\n",
    "                for j in range(image.shape[1]):\n",
    "                    if 0 <= i + offset_y < image.shape[0] and 0 <= j + offset_x < image.shape[1]:\n",
    "                        pixel_value = image_normalized[i, j]\n",
    "                        neighbor_value = image_normalized[i + offset_y, j + offset_x]\n",
    "                        glcm_matrix[pixel_value, neighbor_value] += 1\n",
    "        glcm_matrices.append(glcm_matrix)\n",
    "    return glcm_matrices\n",
    "\n",
    "def calculate_glcm_features(glcm_matrices):\n",
    "    features = []\n",
    "    for glcm_matrix in glcm_matrices:\n",
    "        glcm_matrix /= np.sum(glcm_matrix)\n",
    "        \n",
    "        contrast = np.sum(glcm_matrix * np.square(np.arange(glcm_matrix.shape[0]) - np.arange(glcm_matrix.shape[1])))\n",
    "        dissimilarity = np.sum(glcm_matrix * np.abs(np.arange(glcm_matrix.shape[0]) - np.arange(glcm_matrix.shape[1])))\n",
    "\n",
    "        homogeneity = np.sum(glcm_matrix / (1 + np.square(np.arange(glcm_matrix.shape[0]) - np.arange(glcm_matrix.shape[1]))))\n",
    "        energy = np.sum(np.square(glcm_matrix))\n",
    "        correlation = np.sum((np.arange(glcm_matrix.shape[0]) - np.mean(glcm_matrix)) * \n",
    "                             (np.arange(glcm_matrix.shape[1]) - np.mean(glcm_matrix)) * glcm_matrix / \n",
    "                             (np.std(glcm_matrix) ** 2))\n",
    "        entropy = -np.sum(glcm_matrix * np.log(glcm_matrix + 1e-10))\n",
    "        asm = np.sum(np.square(glcm_matrix))\n",
    "        \n",
    "        features.append({\n",
    "            'contrast': contrast,\n",
    "            'dissimilarity': dissimilarity,\n",
    "            'homogeneity': homogeneity,\n",
    "            'energy': energy,\n",
    "            'correlation': correlation,\n",
    "            'entropy': entropy,\n",
    "            'ASM': asm\n",
    "        })\n",
    "    return features\n",
    "\n",
    "\n",
    "edge_images_prewitt_rotated = [\n",
    "    np.random.randint(0, 256, size=(100, 100)),\n",
    "    np.random.randint(0, 256, size=(100, 100)),\n",
    "]\n",
    "\n",
    "glcm_matrices = []\n",
    "for edge_image in edge_images_prewitt_rotated:\n",
    "    glcm_matrices.extend(calculate_glcm(edge_image))\n",
    "\n",
    "glcm_features = calculate_glcm_features(glcm_matrices)\n",
    "\n",
    "data = []\n",
    "columns = ['Image', 'Contrast', 'Dissimilarity', 'Homogeneity', 'Energy', 'Correlation', 'Entropy', 'ASM']\n",
    "for angle in [0, 45, 90, 135]:\n",
    "    columns.extend([f'contrast_{angle}', f'dissimilarity_{angle}', f'homogeneity_{angle}', \n",
    "                    f'energy_{angle}', f'correlation_{angle}', f'asm_{angle}', f'entropy_{angle}'])\n",
    "\n",
    "for i, features in enumerate(glcm_features):\n",
    "    row = [i + 1, features['contrast'], features['dissimilarity'], features['homogeneity'], \n",
    "           features['energy'], features['correlation'], features['entropy'], features['ASM']]\n",
    "    for angle in [0, 45, 90, 135]:\n",
    "        row.extend([features['contrast'], features['dissimilarity'], features['homogeneity'], \n",
    "                    features['energy'], features['correlation'], features['entropy'], features['ASM']])\n",
    "    data.append(row)\n",
    "\n",
    "df = pd.DataFrame(data, columns=columns)\n",
    "\n",
    "print(df)\n",
    "df.head()"
   ]
  },
  {
   "cell_type": "markdown",
   "metadata": {},
   "source": [
    "### Features Selection"
   ]
  },
  {
   "cell_type": "code",
   "execution_count": null,
   "metadata": {},
   "outputs": [],
   "source": [
    "def feature_selection_correlation(results):\n",
    "    data = []\n",
    "    columns = ['Filename', 'Label', 'Contrast', 'Dissimilarity', 'Homogeneity', 'Energy', 'Correlation', 'ASM', 'Entropy']\n",
    "    for fname, label, features in results:\n",
    "        row = [fname, label]\n",
    "        row.extend(features.values())\n",
    "        data.append(row)\n",
    "    \n",
    "    df = pd.DataFrame(data, columns=columns)\n",
    "    \n",
    "    df['Label'] = df['Label'].astype('category').cat.codes\n",
    "    \n",
    "    numeric_df = df.drop(columns=['Filename'])\n",
    "    \n",
    "    corr = numeric_df.corr()\n",
    "    \n",
    "    plt.figure(figsize=(10, 8))\n",
    "    plt.title(\"Matriks Korelasi Fitur\")\n",
    "    plt.imshow(corr, cmap='coolwarm', interpolation='none', aspect='auto')\n",
    "    plt.colorbar()\n",
    "    plt.xticks(range(len(corr.columns)), corr.columns, rotation=45)\n",
    "    plt.yticks(range(len(corr.index)), corr.index)\n",
    "    for i in range(len(corr.columns)):\n",
    "        for j in range(len(corr.index)):\n",
    "            plt.text(j, i, f\"{corr.iloc[i, j]:.2f}\", ha='center', va='center', color='black')\n",
    "    plt.show()\n",
    "    \n",
    "    selected_features = corr['Label'][(corr['Label'] > 0.99) | (corr['Label'] < -0.99)].index.tolist()\n",
    "    selected_features.remove('Label')\n",
    "    \n",
    "    print(\"Selected Features:\", selected_features)\n",
    "    \n",
    "    return df, selected_features\n",
    "\n",
    "edge_images_prewitt_rotated = [\n",
    "    np.random.randint(0, 256, size=(100, 100)),\n",
    "    np.random.randint(0, 256, size=(100, 100)),\n",
    "]\n",
    "\n",
    "glcm_matrices = []\n",
    "for edge_image in edge_images_prewitt_rotated:\n",
    "    glcm_matrices.extend(calculate_glcm(edge_image))\n",
    "\n",
    "glcm_features = calculate_glcm_features(glcm_matrices)\n",
    "\n",
    "results = []\n",
    "for i, features in enumerate(glcm_features):\n",
    "    results.append((f'Filename_{i}', f'Label_{i}', features))\n",
    "\n",
    "df_selected, selected_features = feature_selection_correlation(results)\n",
    "print(\"Selected Features:\", selected_features)\n",
    "print(df_selected.head())"
   ]
  },
  {
   "cell_type": "markdown",
   "metadata": {},
   "source": [
    "### Splitting Data"
   ]
  },
  {
   "cell_type": "code",
   "execution_count": null,
   "metadata": {},
   "outputs": [],
   "source": [
    "X = df_selected.drop(columns=['Label'])\n",
    "y = df_selected['Label']\n",
    "\n",
    "X_train, X_test, y_train, y_test = train_test_split(X, y, test_size=0.2, random_state=42)\n",
    "\n",
    "print(\"Training data shape:\", X_train.shape)\n",
    "print(\"Testing data shape:\", X_test.shape)"
   ]
  },
  {
   "cell_type": "markdown",
   "metadata": {},
   "source": [
    "### Normalization"
   ]
  },
  {
   "cell_type": "code",
   "execution_count": null,
   "metadata": {},
   "outputs": [],
   "source": [
    "X_train_numeric = X_train.select_dtypes(include=[np.number])\n",
    "X_test_numeric = X_test.select_dtypes(include=[np.number])\n",
    "\n",
    "def min_max_normalization(data):\n",
    "    min_val = data.min()\n",
    "    max_val = data.max()\n",
    "    normalized_data = (data - min_val) / (max_val - min_val)\n",
    "    return normalized_data\n",
    "\n",
    "X_train_normalized = X_train_numeric.apply(min_max_normalization, axis=0)\n",
    "\n",
    "X_test_normalized = X_test_numeric.apply(min_max_normalization, axis=0)\n",
    "\n",
    "print(\"Normalized Training data shape :\", X_train_normalized.shape)\n",
    "print(\"Normalized Testing data shape:\", X_test_normalized.shape)\n"
   ]
  },
  {
   "cell_type": "markdown",
   "metadata": {},
   "source": [
    "## Modeling"
   ]
  },
  {
   "cell_type": "code",
   "execution_count": null,
   "metadata": {},
   "outputs": [],
   "source": [
    "X_train_numeric = X_train.drop(columns=['Filename'])\n",
    "X_test_numeric = X_test.drop(columns=['Filename'])\n",
    "\n",
    "rf_classifier = RandomForestClassifier(n_estimators=100, random_state=42)\n",
    "\n",
    "rf_classifier.fit(X_train_numeric, y_train)\n",
    "\n",
    "y_pred_train = rf_classifier.predict(X_train_numeric)\n",
    "y_pred_test = rf_classifier.predict(X_test_numeric)\n",
    "\n",
    "accuracy_train = accuracy_score(y_train, y_pred_train)\n",
    "accuracy_test = accuracy_score(y_test, y_pred_test)\n",
    "\n",
    "print(\"Training Accuracy:\", accuracy_train)\n",
    "print(\"Testing Accuracy:\", accuracy_test)"
   ]
  },
  {
   "cell_type": "markdown",
   "metadata": {},
   "source": [
    "## Evaluation"
   ]
  },
  {
   "cell_type": "code",
   "execution_count": null,
   "metadata": {},
   "outputs": [],
   "source": [
    "X_train_numeric = X_train.drop(columns=['Filename'])\n",
    "X_test_numeric = X_test.drop(columns=['Filename'])\n",
    "\n",
    "rf_classifier = RandomForestClassifier(n_estimators=100, random_state=42)\n",
    "\n",
    "rf_classifier.fit(X_train_numeric, y_train)\n",
    "\n",
    "y_pred_train = rf_classifier.predict(X_train_numeric)\n",
    "y_pred_test = rf_classifier.predict(X_test_numeric)\n",
    "\n",
    "warnings.filterwarnings(\"ignore\", category=UndefinedMetricWarning)\n",
    "\n",
    "conf_matrix_train = confusion_matrix(y_train, y_pred_train)\n",
    "conf_matrix_test = confusion_matrix(y_test, y_pred_test)\n",
    "\n",
    "accuracy_train = accuracy_score(y_train, y_pred_train)\n",
    "accuracy_test = accuracy_score(y_test, y_pred_test)\n",
    "\n",
    "precision_train = precision_score(y_train, y_pred_train, average='macro', zero_division='warn')\n",
    "precision_test = precision_score(y_test, y_pred_test, average='macro', zero_division='warn')\n",
    "\n",
    "recall_train = recall_score(y_train, y_pred_train, average='macro', zero_division='warn')\n",
    "recall_test = recall_score(y_test, y_pred_test, average='macro', zero_division='warn')\n",
    "\n",
    "f1_train = f1_score(y_train, y_pred_train, average='macro', zero_division='warn')\n",
    "f1_test = f1_score(y_test, y_pred_test, average='macro', zero_division='warn')\n",
    "\n",
    "print(\"Evaluation Metrics:\")\n",
    "print(\"-----------------------------------------------------\")\n",
    "print(\"| Metric      |   Training Set   |   Testing Set    |\")\n",
    "print(\"-----------------------------------------------------\")\n",
    "print(\"| Accuracy    |    {:.4f}        |    {:.4f}        |\".format(accuracy_train, accuracy_test))\n",
    "print(\"| Precision   |    {:.4f}        |    {:.4f}        |\".format(precision_train, precision_test))\n",
    "print(\"| Recall      |    {:.4f}        |    {:.4f}        |\".format(recall_train, recall_test))\n",
    "print(\"| F1-score    |    {:.4f}        |    {:.4f}        |\".format(f1_train, f1_test))\n",
    "print(\"-----------------------------------------------------\")\n",
    "\n",
    "print(\"Confusion Matrix:\")\n",
    "print(\"Training Set\")\n",
    "print(conf_matrix_train)\n",
    "print(\"\\nTesting Set\")\n",
    "print(conf_matrix_test)"
   ]
  }
 ],
 "metadata": {
  "kernelspec": {
   "display_name": "Python 3",
   "language": "python",
   "name": "python3"
  },
  "language_info": {
   "codemirror_mode": {
    "name": "ipython",
    "version": 3
   },
   "file_extension": ".py",
   "mimetype": "text/x-python",
   "name": "python",
   "nbconvert_exporter": "python",
   "pygments_lexer": "ipython3",
   "version": "3.12.2"
  }
 },
 "nbformat": 4,
 "nbformat_minor": 2
}
